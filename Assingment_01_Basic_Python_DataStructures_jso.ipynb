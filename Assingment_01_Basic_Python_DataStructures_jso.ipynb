{
  "nbformat": 4,
  "nbformat_minor": 0,
  "metadata": {
    "colab": {
      "provenance": [],
      "include_colab_link": true
    },
    "kernelspec": {
      "name": "python3",
      "display_name": "Python 3"
    }
  },
  "cells": [
    {
      "cell_type": "markdown",
      "metadata": {
        "id": "view-in-github",
        "colab_type": "text"
      },
      "source": [
        "<a href=\"https://colab.research.google.com/github/wiradear/Prinsiple-of-DataScience/blob/main/Assingment_01_Basic_Python_DataStructures_jso.ipynb\" target=\"_parent\"><img src=\"https://colab.research.google.com/assets/colab-badge.svg\" alt=\"Open In Colab\"/></a>"
      ]
    },
    {
      "cell_type": "markdown",
      "metadata": {
        "id": "ceFxDOo3-6LW"
      },
      "source": [
        "# CS245 : Principle of Data Science\n",
        "## <u>Assignment#01</u>: Basic Python Data Structures: List, Tuple, Dictionary\n",
        "### (100 คะแนน)\n"
      ]
    },
    {
      "cell_type": "markdown",
      "metadata": {
        "id": "WvWfMc1k_eE9"
      },
      "source": [
        "## 1. (2.5 คะแนน) List.\n",
        "Given two lists. Create the third list by concatenating even-indexed elements from the second to the odd-indexed elements from the first list.\n",
        "### For Example:\n",
        "* listOne = [3, 6, 9, 12, 15, 18, 21]\n",
        "* listTwo = [4, 8, 12, 16, 20, 24, 28]\n",
        "\n",
        "### Expected Output:\n",
        "The final third list is [6, 12, 18, 4, 12, 20, 28]\n",
        "\n",
        "\n",
        "\n",
        "\n"
      ]
    },
    {
      "cell_type": "markdown",
      "metadata": {
        "id": "cr2fh0nYF36_"
      },
      "source": [
        "Write and Execute your code here."
      ]
    },
    {
      "cell_type": "code",
      "metadata": {
        "id": "a1rwFNjbGMkd",
        "colab": {
          "base_uri": "https://localhost:8080/"
        },
        "outputId": "7c382f8b-0746-4bdb-d8a4-80d92de44e16"
      },
      "source": [
        "# Q.1\n",
        "listOne = [3, 6, 9, 12, 15, 18, 21]\n",
        "listTwo = [4, 8, 12, 16, 20, 24, 28]\n",
        "listThree = listOne[1::2]+listTwo[0::2]\n",
        "print(\"The final third list is\" ,listThree)\n"
      ],
      "execution_count": null,
      "outputs": [
        {
          "output_type": "stream",
          "name": "stdout",
          "text": [
            "The final third list is [6, 12, 18, 4, 12, 20, 28]\n"
          ]
        }
      ]
    },
    {
      "cell_type": "markdown",
      "metadata": {
        "id": "-43JK3PtGCdy"
      },
      "source": [
        "##2. (2.5 คะแนน) List.\n",
        "Given an input list removes the element at index 4, then <u>insert</u> it as the 2nd item and also, as the last item of the list.\n",
        "### For Example:\n",
        "* mylist = [34, 54, 67, 89, 11, 43, 94]\n",
        "\n",
        "### Expected Output:\n",
        "* Printing the final list\n",
        "[34, 11, 54, 67, 89, 43, 94, 11]"
      ]
    },
    {
      "cell_type": "markdown",
      "metadata": {
        "id": "9VnWRZZBISOF"
      },
      "source": [
        "Write and execute your code here."
      ]
    },
    {
      "cell_type": "code",
      "metadata": {
        "id": "h4fB4h2F-yHy",
        "colab": {
          "base_uri": "https://localhost:8080/"
        },
        "outputId": "10f5c99e-3b9f-40bb-e895-731981c90d96"
      },
      "source": [
        "# Q.2\n",
        "mylist = [34, 54, 67, 89, 11, 43, 94]\n",
        "item = mylist.pop(4)\n",
        "mylist.insert(1,item)\n",
        "mylist.insert(7,item)\n",
        "print(\"Printing the final list\",mylist)\n"
      ],
      "execution_count": null,
      "outputs": [
        {
          "output_type": "stream",
          "name": "stdout",
          "text": [
            "Printing the final list [34, 11, 54, 67, 89, 43, 94, 11]\n"
          ]
        }
      ]
    },
    {
      "cell_type": "markdown",
      "metadata": {
        "id": "ISxUBrObOvTK"
      },
      "source": [
        "## 3. (2.5 คะแนน) Set.\n",
        "*   Given two sets.\n",
        "*   Find the intersection and remove those elements from the first set.\n",
        "\n",
        "### Expected Output:\n",
        "* First set {65, 42, 78, 83, 23, 57, 29}\n",
        "* Second set {67, 73, 43, 48, 83, 57, 29}\n",
        "* Intersection is {57, 83, 29}\n",
        "* First set after removing common element(s) {65, 42, 78, 23}"
      ]
    },
    {
      "cell_type": "markdown",
      "source": [
        "Write and execute your code here."
      ],
      "metadata": {
        "id": "bgEJ5gaHRDRi"
      }
    },
    {
      "cell_type": "code",
      "metadata": {
        "id": "LlJJ4VWmaQVu",
        "colab": {
          "base_uri": "https://localhost:8080/"
        },
        "outputId": "2eae8edc-194e-46ce-ca15-3689eed270d6"
      },
      "source": [
        "# Q.3\n",
        "set1 = {65, 42, 78, 83, 23, 57, 29}\n",
        "set2 = {67, 73, 43, 48, 83, 57, 29}\n",
        "intersec = set1.intersection(set2)\n",
        "\n",
        "print(\"First set\",set1)\n",
        "print(\"Second set\",set2)\n",
        "print(\"Intersection is\",intersec)\n",
        "set1.difference_update(intersec)\n",
        "print(\"First set after removing common element(s)\",set1)"
      ],
      "execution_count": null,
      "outputs": [
        {
          "output_type": "stream",
          "name": "stdout",
          "text": [
            "First set {65, 42, 78, 83, 23, 57, 29}\n",
            "Second set {67, 73, 43, 48, 83, 57, 29}\n",
            "Intersection is {57, 83, 29}\n",
            "First set after removing common element(s) {65, 42, 78, 23}\n"
          ]
        }
      ]
    },
    {
      "cell_type": "markdown",
      "source": [],
      "metadata": {
        "id": "KoubOGTb4PwZ"
      }
    },
    {
      "cell_type": "markdown",
      "metadata": {
        "id": "PUg9JYypeCPd"
      },
      "source": [
        "## 4. (2.5 คะแนน) List and Tuple.\n",
        "* Given a list\n",
        "* Remove duplicate from the given list\n",
        "* Find the maximum and minimum numbers in the list\n",
        "\n",
        "### For Example:\n",
        "* mylist = [87, 45, 41, 65, 94, 41, 99, 94]\n",
        "\n",
        "### Expected Output:\n",
        "unique item: [65, 99, 41, 45, 87, 94] <br>\n",
        "min:  41 <br>\n",
        "max:  99 <br>"
      ]
    },
    {
      "cell_type": "markdown",
      "source": [
        "Write and execute your code here."
      ],
      "metadata": {
        "id": "Rh52OllHRFF5"
      }
    },
    {
      "cell_type": "code",
      "metadata": {
        "id": "-4LQFcKzew3i",
        "colab": {
          "base_uri": "https://localhost:8080/"
        },
        "outputId": "78030838-ca91-4e80-d6c7-b0826c609edc"
      },
      "source": [
        "# Q.4\n",
        "mylist = [87, 45, 41, 65, 94, 41, 99, 94]\n",
        "mylist = [*set(mylist)]\n",
        "print(\"unique item:\",mylist)\n",
        "print(\"min:\", min(mylist))\n",
        "print(\"max:\", max(mylist))\n"
      ],
      "execution_count": null,
      "outputs": [
        {
          "output_type": "stream",
          "name": "stdout",
          "text": [
            "unique item: [65, 99, 41, 45, 87, 94]\n",
            "min: 41\n",
            "max: 99\n"
          ]
        }
      ]
    },
    {
      "cell_type": "markdown",
      "metadata": {
        "id": "mb9Yo1ykbzB6"
      },
      "source": [
        "## 5. (10 คะแนน) List and Dictionary.\n",
        "*   Given a list.\n",
        "*   Iterate over the given list and count the occurrence of each element.\n",
        "*   Create a dictionary to show the count of each element.\n",
        "\n",
        "### Expected Output:\n",
        "Original list  [11, 45, 8, 11, 23, 45, 23, 45, 89]\n",
        "\n",
        "'count' of each item  {11: 2, 45: 3, 8: 1, 23: 2, 89: 1}"
      ]
    },
    {
      "cell_type": "markdown",
      "source": [
        "Write and execute your code here."
      ],
      "metadata": {
        "id": "B_52ITt5RIIy"
      }
    },
    {
      "cell_type": "code",
      "metadata": {
        "id": "7GcoXHewOUCx",
        "colab": {
          "base_uri": "https://localhost:8080/"
        },
        "outputId": "350e1c71-410c-496b-d5ad-48f8244a75dc"
      },
      "source": [
        "# Q.5\n",
        "mylist = [11, 45, 8, 11, 23, 45, 23, 45, 89]\n",
        "count = {}\n",
        "for i in mylist:\n",
        "  count[i] = mylist.count(i)\n",
        "print(\"Original list \",mylist)\n",
        "print(\"'count' of each item\",count)"
      ],
      "execution_count": null,
      "outputs": [
        {
          "output_type": "stream",
          "name": "stdout",
          "text": [
            "Original list  [11, 45, 8, 11, 23, 45, 23, 45, 89]\n",
            "'count' of each item {11: 2, 45: 3, 8: 1, 23: 2, 89: 1}\n"
          ]
        }
      ]
    },
    {
      "cell_type": "markdown",
      "source": [
        "## 6. (10 คะแนน) List and Dictionary.\n",
        "\n",
        "\n",
        "* Given a dictionary which consists of vehicles and their weights in\n",
        "kilograms.\n",
        "* Contruct a list of vehicle names whose corresponding weight below 2500 kilograms.\n",
        "* In the same list comprehension make the key names all upper case.\n",
        "\n",
        "<u>Note</u>: นักศึกษาโปรดทราบ\n",
        "* โปรดสังเกต data type ของผลลัพธ์\n",
        "* อย่าลืม โปรแกรมของนักศึกษาต้องมีโค้ดสำหรับแสดงผลลัพธ์ด้วย\n",
        "\n",
        "### Example (Input):\n",
        "vehicles = {\"Sedan\": 1500, \"SUV\": 2000, \"Pickup\": 2500, \"Minivan\": 1600, \"Van\": 2400, \"Semi\": 13600, \"Bicycle\": 7, \"Motorcycle\": 110}\n",
        "\n",
        "### Expected Output:\n",
        "['SEDAN', 'SUV', 'MINIVAN', 'VAN', 'BICYCLE', 'MOTORCYCLE']\n",
        "\n",
        "\n",
        "  "
      ],
      "metadata": {
        "id": "hx7SQ5Q8_pfA"
      }
    },
    {
      "cell_type": "markdown",
      "source": [
        "Write and execute your code here."
      ],
      "metadata": {
        "id": "VCtDev9SRLwo"
      }
    },
    {
      "cell_type": "code",
      "source": [
        "# Q.6\n",
        "vehicles = {\"Sedan\": 1500, \"SUV\": 2000, \"Pickup\": 2500, \"Minivan\": 1600, \"Van\": 2400, \"Semi\": 13600, \"Bicycle\": 7, \"Motorcycle\": 110}\n",
        "val = [i for i,v in vehicles.items() if v < 2500]\n",
        "toUpper = [j.upper() for j in val]\n",
        "print(toUpper)"
      ],
      "metadata": {
        "id": "y-Q6fzY_D2Dj",
        "colab": {
          "base_uri": "https://localhost:8080/"
        },
        "outputId": "59647132-df67-48e7-accb-63243683a372"
      },
      "execution_count": null,
      "outputs": [
        {
          "output_type": "stream",
          "name": "stdout",
          "text": [
            "['SEDAN', 'SUV', 'MINIVAN', 'VAN', 'BICYCLE', 'MOTORCYCLE']\n"
          ]
        }
      ]
    },
    {
      "cell_type": "markdown",
      "source": [],
      "metadata": {
        "id": "JieowD93M5J2"
      }
    },
    {
      "cell_type": "markdown",
      "metadata": {
        "id": "UzVgtP5UQNFW"
      },
      "source": [
        "## 7. (20 - 35 คะแนน) Given an inventory (สินค้าคงคลัง หน่วยเป็นชิ้น) and sales (ยอดขายสินค้า หน่วยเป็นชิ้น) information of a clothing store.\n",
        "1. Find the item(s) with the maximum amount kept in warehouse. Report both name(s) of the item(s) and the number of items in warehouse.\n",
        "2. Find the items(s) with the maximum sale. Report both the name(s) of the item(s) and the number of items sold.\n",
        "3. Based on the inventory and sales, compute and Report the inventory left.\n",
        "\n",
        "<u>Note</u>: นักศึกษาโปรดทราบ\n",
        "* ในข้อมูลคลังสินค้า อาจมีสินค้าที่มีปริมาณเท่ากัน\n",
        "* ในข้อมูลยอดขาย อาจมีสินค้าที่มียอดขายเท่ากัน\n",
        "* ข้อมูลในรายการคลังสินค้าและยอดขาย เป็นลำดับแบบสุ่ม\n",
        "* ในข้อมูลยอดขาย สินค้าที่ไม่มีข้อมูล คือ สินค้าที่ไม่มียอดขายในเดือนนั้น\n",
        "* ตอบข้อ 3. ต้องรายงานจำนวนที่เหลืออยู่ของสินค้าให้ครบทุกรายการในคลังสินค้า\n",
        "* ข้อมูลใน 'sales' และ 'inventory' ถูกต้องตามเงื่อนไขเสมอ ไม่ต้อง validate ข้อมูล\n",
        "\n",
        "<u>Note</u>: คะแนนข้อนี้เป็นขั้นบันได\n",
        "* โปรแกรมผลิตผลลัพธ์ได้อย่างถูกต้อง  (+ 10 คะแนน)\n",
        "* Pythonic: โค้ดที่คำนวณ ข้อ 1. ถึง ข้อ 3. โดยใช้ list comprehension เท่านั้น (+15 คะแนน)\n",
        "* Pythonic: โค้ดที่คำนวณ inventory left (ข้อ 3.) โดยใช้ list comprehension แบบไม่มี nested และ ไม่มีการเพิ่มข้อมูลเข้าไปในดิกชันนารีแบบ manual (+10 คะแนน)\n",
        "\n",
        "### For Example:\n",
        "* inventory = {'Dress': 200, 'Pants': 100, 'Shorts': 250, 'Tops': 250, 'Coats_and_Jacket': 150, 'Shoes': 250, 'Accessories': 150}\n",
        "* sales = {'Accessories': 25, 'Shorts': 100, 'Dress': 75, 'Pants': 50, 'Tops': 175, 'Coats_and_Jacket': 120 }\n",
        "\n",
        "### Expected Output: นักศึกษาโปรดสังเกต data type ของเอาท์พุตที่โจทย์ต้องการด้วย <br>\n",
        "Items with maximum inventory are the following: <br>\n",
        "{'Shorts': 250, 'Tops': 250, 'Shoes': 250}\n",
        "\n",
        "Items with maximum sale are the following: <br>\n",
        "{'Tops': 175}\n",
        "\n",
        "Current inventory is the following: <br>\n",
        "{'Dress': 125, 'Pants': 50, 'Shorts': 150, 'Tops': 75, 'Coats_and_Jacket': 30, 'Shoes': 250, 'Accessories': 125}"
      ]
    },
    {
      "cell_type": "markdown",
      "source": [
        "Write and execute your code here."
      ],
      "metadata": {
        "id": "m56BudmARP-L"
      }
    },
    {
      "cell_type": "code",
      "metadata": {
        "id": "FwxFPHSFQvl-",
        "colab": {
          "base_uri": "https://localhost:8080/"
        },
        "outputId": "9f86c9dc-3430-42cb-b199-63b5ee91c473"
      },
      "source": [
        "# Q.7\n",
        "inventory = {'Dress': 200, 'Pants': 100, 'Shorts': 250, 'Tops': 250, 'Coats_and_Jacket': 150, 'Shoes': 250, 'Accessories': 150}\n",
        "sales = {'Accessories': 25, 'Shorts': 100, 'Dress': 75, 'Pants': 50, 'Tops': 175, 'Coats_and_Jacket': 120 }\n",
        "print(\"Items with maximum inventory are the following:\")\n",
        "print({i:j for i,j in inventory.items() if j == max(inventory.values())})\n",
        "print(\"\")\n",
        "print(\"Items with maximum sale are the following:\")\n",
        "print({i:j for i,j in sales.items() if j==max(sales.values())})\n",
        "print(\"\")\n",
        "print(\"Current inventory is the following:\")\n",
        "print({ i:(j-sales[i] if i in sales else  j) for (i,j) in inventory.items()})"
      ],
      "execution_count": null,
      "outputs": [
        {
          "output_type": "stream",
          "name": "stdout",
          "text": [
            "Items with maximum inventory are the following:\n",
            "{'Shorts': 250, 'Tops': 250, 'Shoes': 250}\n",
            "\n",
            "Items with maximum sale are the following:\n",
            "{'Tops': 175}\n",
            "\n",
            "Current inventory is the following:\n",
            "{'Dress': 125, 'Pants': 50, 'Shorts': 150, 'Tops': 75, 'Coats_and_Jacket': 30, 'Shoes': 250, 'Accessories': 125}\n"
          ]
        }
      ]
    },
    {
      "cell_type": "markdown",
      "metadata": {
        "id": "yWY2leSaOWAE"
      },
      "source": [
        "## 8. (10 - 15 คะแนน) Data Validation: Given an inventory (สินค้าคงคลัง หน่วยเป็นชิ้น) and sales (ยอดขายสินค้า หน่วยเป็นชิ้น) information of a clothing store.\n",
        "\n",
        "Ana is asked to help her beloved auntie in validating the information. Ana notices one constraint that must be satisfied by the information.\n",
        "That is, all items in 'sales' must be in 'inventory'.\n",
        "\n",
        "Please help Ana listing all errorneous information.\n",
        "\n",
        "<u>Note</u>: นักศึกษาโปรดทราบ คะแนนข้อนี้เป็นขั้นบันได\n",
        "* โปรแกรมผลิตผลลัพธ์ได้อย่างถูกต้อง  (+ 10 คะแนน)\n",
        "* Pythonic: โค้ดที่ใช้ list comprehension เท่านั้น (+5 คะแนน)\n",
        "\n",
        "### For Example:\n",
        "* inventory = {'Dress': 200, 'Pants': 100, 'Shorts': 250, 'Tops': 250, 'Coats_and_Jacket': 150, 'Shoes': 250, 'Accessories': 150}\n",
        "* sales = {'Shorts': 100, 'Fragrance': 2, 'Pants': 50, 'Tops': 175, 'Coats_and_Jacket': 120, 'Swimwear': 50}\n",
        "\n",
        "### Expected Output: นักศึกษาโปรดสังเกต data type ของเอาท์พุตที่โจทย์ต้องการด้วย <br>\n",
        "Items listed in 'sales' but not shown in 'inventory' are the following: <br>\n",
        "{('Fragrance', 2), ('Swimwear', 50)}"
      ]
    },
    {
      "cell_type": "markdown",
      "source": [
        "Write and execute your code here."
      ],
      "metadata": {
        "id": "0nJQMexVRSyx"
      }
    },
    {
      "cell_type": "code",
      "metadata": {
        "id": "9d-kMSRkV0Y7",
        "colab": {
          "base_uri": "https://localhost:8080/"
        },
        "outputId": "a8732ed3-b8cc-4323-bcde-44302d0dca4b"
      },
      "source": [
        "# Q.8\n",
        "inventory = {'Dress': 200, 'Pants': 100, 'Shorts': 250, 'Tops': 250, 'Coats_and_Jacket': 150, 'Shoes': 250, 'Accessories': 150}\n",
        "sales = {'Shorts': 100, 'Fragrance': 2, 'Pants': 50, 'Tops': 175, 'Coats_and_Jacket': 120, 'Swimwear': 50}\n",
        "total = {i:j for i,j in sales.items() if i not in inventory}\n",
        "print(\"Items listed in 'sales' but not shown in 'inventory' are the following:\")\n",
        "print(set(total.items()))\n",
        "\n"
      ],
      "execution_count": null,
      "outputs": [
        {
          "output_type": "stream",
          "name": "stdout",
          "text": [
            "Items listed in 'sales' but not shown in 'inventory' are the following:\n",
            "{('Fragrance', 2), ('Swimwear', 50)}\n"
          ]
        }
      ]
    },
    {
      "cell_type": "markdown",
      "metadata": {
        "id": "K_BB_PlzXYCx"
      },
      "source": [
        "## 9. (15 - 20 คะแนน) Given an inventory (สินค้าคงคลัง) and sales (ยอดขายสินค้า หน่วยเป็นชิ้น) information of a clothing store. The inventory for each product consists of both the number of products in warehouse (หน่วยเป็นชิ้น) and the price per item (หน่วยเป็นดอลลาร์).\n",
        "\n",
        "Compute the total amount of money we earned.\n",
        "\n",
        "<u>Note</u>: นักศึกษาโปรดทราบ คะแนนข้อนี้เป็นขั้นบันได\n",
        "* โปรแกรมผลิตผลลัพธ์ได้อย่างถูกต้อง  (+ 15 คะแนน)\n",
        "* Pythonic: โค้ดที่ใช้ list comprehension เท่านั้น (+5 คะแนน)\n",
        "\n",
        "### For Example:\n",
        "inventory = {'Dress': (200, 10), 'Pants': (100, 5), 'Shorts': (250, 5), 'Tops': (250, 5), 'Coats_and_Jacket': (150, 20), 'Shoes': (250, 20),\n",
        "'Accessories': (150, 2.5)} <br>\n",
        "sales = {'Accessories': 25, 'Shorts': 100, 'Dress': 75, 'Pants': 50, 'Tops': 75, 'Coats_and_Jacket': 20 }\n",
        "\n",
        "### Expected Output: นักศึกษาโปรดสังเกต data type ของเอาท์พุตที่โจทย์ต้องการด้วย <br>\n",
        "The total amount of money we earned:\n",
        "{'Dress': 750, 'Pants': 250, 'Shorts': 500, 'Tops': 375, 'Coats_and_Jacket': 400, 'Shoes': 0, 'Accessories': 62.5}"
      ]
    },
    {
      "cell_type": "markdown",
      "source": [
        "Write and execute your code here."
      ],
      "metadata": {
        "id": "9LGvttnLRUhB"
      }
    },
    {
      "cell_type": "code",
      "metadata": {
        "id": "BLG02TlFXqNE",
        "colab": {
          "base_uri": "https://localhost:8080/"
        },
        "outputId": "e656d5a9-18b7-4ff9-a595-3a9620851129"
      },
      "source": [
        "# Q.9\n",
        "inventory = {'Dress': (200, 10), 'Pants': (100, 5), 'Shorts': (250, 5), 'Tops': (250, 5), 'Coats_and_Jacket': (150, 20), 'Shoes': (250, 20), 'Accessories': (150, 2.5)}\n",
        "sales = {'Accessories': 25, 'Shorts': 100, 'Dress': 75, 'Pants': 50, 'Tops': 75, 'Coats_and_Jacket': 20 }\n",
        "price = {i:j[1] for i,j in inventory.items()}\n",
        "amount = {m:sales[m]*n if m in sales.keys() else 0 for (m, n) in price.items()}\n",
        "print(\"The total amount of money we earned:\",amount)\n"
      ],
      "execution_count": null,
      "outputs": [
        {
          "output_type": "stream",
          "name": "stdout",
          "text": [
            "The total amount of money we earned: {'Dress': 750, 'Pants': 250, 'Shorts': 500, 'Tops': 375, 'Coats_and_Jacket': 400, 'Shoes': 0, 'Accessories': 62.5}\n"
          ]
        }
      ]
    }
  ]
}